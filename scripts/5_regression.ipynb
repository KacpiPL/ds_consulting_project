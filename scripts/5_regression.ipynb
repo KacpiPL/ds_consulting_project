{
 "cells": [
  {
   "cell_type": "code",
   "execution_count": 4,
   "metadata": {},
   "outputs": [],
   "source": [
    "import pandas as pd\n",
    "from utils.regression import RegressionAnalysis\n",
    "from sklearn.model_selection import train_test_split\n",
    "from sklearn.ensemble import RandomForestRegressor\n",
    "from sklearn.feature_selection import RFE\n",
    "from utils.rfe import apply_rfe"
   ]
  },
  {
   "cell_type": "code",
   "execution_count": 5,
   "metadata": {},
   "outputs": [],
   "source": [
    "df = pd.read_csv('../data/cleaned_data_cluster.csv')\n",
    "# select df without cluster column\n",
    "df_without_cluster = df.drop(columns=['cluster'])"
   ]
  },
  {
   "cell_type": "markdown",
   "metadata": {},
   "source": [
    "## Recursive feature elimination - 'Review Rating'"
   ]
  },
  {
   "cell_type": "code",
   "execution_count": 6,
   "metadata": {},
   "outputs": [],
   "source": [
    "selecelected_features_rating = apply_rfe(df_without_cluster, 'Review Rating')"
   ]
  },
  {
   "cell_type": "code",
   "execution_count": 7,
   "metadata": {},
   "outputs": [
    {
     "data": {
      "text/plain": [
       "['Size',\n",
       " 'Frequency of Purchases',\n",
       " 'Age',\n",
       " 'Purchase Amount (USD)',\n",
       " 'Previous Purchases',\n",
       " 'Gender_Male',\n",
       " 'Category_Clothing',\n",
       " 'Season_Spring',\n",
       " 'Season_Winter',\n",
       " 'Discount Applied_Yes',\n",
       " 'Review Rating']"
      ]
     },
     "execution_count": 7,
     "metadata": {},
     "output_type": "execute_result"
    }
   ],
   "source": [
    "selecelected_features_rating"
   ]
  },
  {
   "cell_type": "markdown",
   "metadata": {},
   "source": [
    "## Regression on features selected in RFE - 'Review Rating'"
   ]
  },
  {
   "cell_type": "markdown",
   "metadata": {},
   "source": [
    "### Prepare datasets"
   ]
  },
  {
   "cell_type": "code",
   "execution_count": 8,
   "metadata": {},
   "outputs": [],
   "source": [
    "df_0 = df[df['cluster'] == 0]\n",
    "df_0 = df_0.drop(columns=['cluster'])\n",
    "df_0_selected_features = df_0[selecelected_features_rating]\n",
    "\n",
    "df_1 = df[df['cluster'] == 1]\n",
    "df_1 = df_1.drop(columns=['cluster'])\n",
    "df_1_selected_features = df_1[selecelected_features_rating]"
   ]
  },
  {
   "cell_type": "markdown",
   "metadata": {},
   "source": [
    "### Perform regression"
   ]
  },
  {
   "cell_type": "code",
   "execution_count": 9,
   "metadata": {},
   "outputs": [],
   "source": [
    "# Declare the regression analysis object\n",
    "r1_df0 = RegressionAnalysis(data = df_0_selected_features, target_column = 'Review Rating')\n",
    "r1_df1 = RegressionAnalysis(data = df_1_selected_features, target_column = 'Review Rating')"
   ]
  },
  {
   "cell_type": "code",
   "execution_count": 10,
   "metadata": {},
   "outputs": [],
   "source": [
    "r1_df0.prepare_data()\n",
    "#r1_df0.fit_linear_regression()\n",
    "#r1_df0.tune_ridge_regression()\n",
    "#r1_df0.tune_lasso_regression()\n",
    "r1_df0.tune_xgboost()\n",
    "#r1_df0.tune_random_forest()\n",
    "r1_df_0_evaluation = r1_df0.evaluate_models()"
   ]
  },
  {
   "cell_type": "code",
   "execution_count": 14,
   "metadata": {},
   "outputs": [],
   "source": [
    "r1_df1.prepare_data()\n",
    "#r1_df1.fit_linear_regression()\n",
    "#r1_df1.tune_ridge_regression()\n",
    "#r1_df1.tune_lasso_regression()\n",
    "r1_df1.tune_xgboost()\n",
    "#r1_df1.tune_random_forest()\n",
    "r1_df_1_evaluation = r1_df1.evaluate_models()"
   ]
  },
  {
   "cell_type": "markdown",
   "metadata": {},
   "source": [
    "### Models evaluation"
   ]
  },
  {
   "cell_type": "code",
   "execution_count": 12,
   "metadata": {},
   "outputs": [
    {
     "data": {
      "text/html": [
       "<div>\n",
       "<style scoped>\n",
       "    .dataframe tbody tr th:only-of-type {\n",
       "        vertical-align: middle;\n",
       "    }\n",
       "\n",
       "    .dataframe tbody tr th {\n",
       "        vertical-align: top;\n",
       "    }\n",
       "\n",
       "    .dataframe thead th {\n",
       "        text-align: right;\n",
       "    }\n",
       "</style>\n",
       "<table border=\"1\" class=\"dataframe\">\n",
       "  <thead>\n",
       "    <tr style=\"text-align: right;\">\n",
       "      <th></th>\n",
       "      <th>Model</th>\n",
       "      <th>RMSE</th>\n",
       "      <th>MAPE</th>\n",
       "      <th>R2</th>\n",
       "    </tr>\n",
       "  </thead>\n",
       "  <tbody>\n",
       "    <tr>\n",
       "      <th>0</th>\n",
       "      <td>xgboost</td>\n",
       "      <td>0.287302</td>\n",
       "      <td>3.148615e+12</td>\n",
       "      <td>-0.017256</td>\n",
       "    </tr>\n",
       "  </tbody>\n",
       "</table>\n",
       "</div>"
      ],
      "text/plain": [
       "     Model      RMSE          MAPE        R2\n",
       "0  xgboost  0.287302  3.148615e+12 -0.017256"
      ]
     },
     "execution_count": 12,
     "metadata": {},
     "output_type": "execute_result"
    }
   ],
   "source": [
    "r1_df_0_evaluation.sort_values(by='R2', ascending=False)"
   ]
  },
  {
   "cell_type": "code",
   "execution_count": 15,
   "metadata": {},
   "outputs": [
    {
     "data": {
      "text/html": [
       "<div>\n",
       "<style scoped>\n",
       "    .dataframe tbody tr th:only-of-type {\n",
       "        vertical-align: middle;\n",
       "    }\n",
       "\n",
       "    .dataframe tbody tr th {\n",
       "        vertical-align: top;\n",
       "    }\n",
       "\n",
       "    .dataframe thead th {\n",
       "        text-align: right;\n",
       "    }\n",
       "</style>\n",
       "<table border=\"1\" class=\"dataframe\">\n",
       "  <thead>\n",
       "    <tr style=\"text-align: right;\">\n",
       "      <th></th>\n",
       "      <th>Model</th>\n",
       "      <th>RMSE</th>\n",
       "      <th>MAPE</th>\n",
       "      <th>R2</th>\n",
       "    </tr>\n",
       "  </thead>\n",
       "  <tbody>\n",
       "    <tr>\n",
       "      <th>0</th>\n",
       "      <td>xgboost</td>\n",
       "      <td>0.280952</td>\n",
       "      <td>4.113845e+13</td>\n",
       "      <td>-0.001303</td>\n",
       "    </tr>\n",
       "  </tbody>\n",
       "</table>\n",
       "</div>"
      ],
      "text/plain": [
       "     Model      RMSE          MAPE        R2\n",
       "0  xgboost  0.280952  4.113845e+13 -0.001303"
      ]
     },
     "execution_count": 15,
     "metadata": {},
     "output_type": "execute_result"
    }
   ],
   "source": [
    "r1_df_1_evaluation.sort_values(by='R2', ascending=False)"
   ]
  },
  {
   "cell_type": "markdown",
   "metadata": {},
   "source": [
    "### Check coefficients"
   ]
  },
  {
   "cell_type": "code",
   "execution_count": 16,
   "metadata": {},
   "outputs": [
    {
     "data": {
      "text/html": [
       "<div>\n",
       "<style scoped>\n",
       "    .dataframe tbody tr th:only-of-type {\n",
       "        vertical-align: middle;\n",
       "    }\n",
       "\n",
       "    .dataframe tbody tr th {\n",
       "        vertical-align: top;\n",
       "    }\n",
       "\n",
       "    .dataframe thead th {\n",
       "        text-align: right;\n",
       "    }\n",
       "</style>\n",
       "<table border=\"1\" class=\"dataframe\">\n",
       "  <thead>\n",
       "    <tr style=\"text-align: right;\">\n",
       "      <th></th>\n",
       "      <th>Importance</th>\n",
       "    </tr>\n",
       "  </thead>\n",
       "  <tbody>\n",
       "    <tr>\n",
       "      <th>Season_Spring</th>\n",
       "      <td>0.152822</td>\n",
       "    </tr>\n",
       "    <tr>\n",
       "      <th>Purchase Amount (USD)</th>\n",
       "      <td>0.136249</td>\n",
       "    </tr>\n",
       "    <tr>\n",
       "      <th>Size</th>\n",
       "      <td>0.134627</td>\n",
       "    </tr>\n",
       "    <tr>\n",
       "      <th>Previous Purchases</th>\n",
       "      <td>0.117241</td>\n",
       "    </tr>\n",
       "    <tr>\n",
       "      <th>Gender_Male</th>\n",
       "      <td>0.113718</td>\n",
       "    </tr>\n",
       "    <tr>\n",
       "      <th>Age</th>\n",
       "      <td>0.102707</td>\n",
       "    </tr>\n",
       "    <tr>\n",
       "      <th>Frequency of Purchases</th>\n",
       "      <td>0.093735</td>\n",
       "    </tr>\n",
       "    <tr>\n",
       "      <th>Discount Applied_Yes</th>\n",
       "      <td>0.078882</td>\n",
       "    </tr>\n",
       "    <tr>\n",
       "      <th>Season_Winter</th>\n",
       "      <td>0.070019</td>\n",
       "    </tr>\n",
       "    <tr>\n",
       "      <th>Category_Clothing</th>\n",
       "      <td>0.000000</td>\n",
       "    </tr>\n",
       "  </tbody>\n",
       "</table>\n",
       "</div>"
      ],
      "text/plain": [
       "                        Importance\n",
       "Season_Spring             0.152822\n",
       "Purchase Amount (USD)     0.136249\n",
       "Size                      0.134627\n",
       "Previous Purchases        0.117241\n",
       "Gender_Male               0.113718\n",
       "Age                       0.102707\n",
       "Frequency of Purchases    0.093735\n",
       "Discount Applied_Yes      0.078882\n",
       "Season_Winter             0.070019\n",
       "Category_Clothing         0.000000"
      ]
     },
     "execution_count": 16,
     "metadata": {},
     "output_type": "execute_result"
    }
   ],
   "source": [
    "r1_df_0_coefficients = r1_df0.get_coefficients(model_name='xgboost').sort_values(by='Importance', ascending=False)\n",
    "r1_df_0_coefficients"
   ]
  },
  {
   "cell_type": "code",
   "execution_count": 17,
   "metadata": {},
   "outputs": [
    {
     "data": {
      "text/html": [
       "<div>\n",
       "<style scoped>\n",
       "    .dataframe tbody tr th:only-of-type {\n",
       "        vertical-align: middle;\n",
       "    }\n",
       "\n",
       "    .dataframe tbody tr th {\n",
       "        vertical-align: top;\n",
       "    }\n",
       "\n",
       "    .dataframe thead th {\n",
       "        text-align: right;\n",
       "    }\n",
       "</style>\n",
       "<table border=\"1\" class=\"dataframe\">\n",
       "  <thead>\n",
       "    <tr style=\"text-align: right;\">\n",
       "      <th></th>\n",
       "      <th>Importance</th>\n",
       "    </tr>\n",
       "  </thead>\n",
       "  <tbody>\n",
       "    <tr>\n",
       "      <th>Age</th>\n",
       "      <td>0.151293</td>\n",
       "    </tr>\n",
       "    <tr>\n",
       "      <th>Purchase Amount (USD)</th>\n",
       "      <td>0.144764</td>\n",
       "    </tr>\n",
       "    <tr>\n",
       "      <th>Season_Winter</th>\n",
       "      <td>0.137296</td>\n",
       "    </tr>\n",
       "    <tr>\n",
       "      <th>Size</th>\n",
       "      <td>0.133915</td>\n",
       "    </tr>\n",
       "    <tr>\n",
       "      <th>Season_Spring</th>\n",
       "      <td>0.121975</td>\n",
       "    </tr>\n",
       "    <tr>\n",
       "      <th>Previous Purchases</th>\n",
       "      <td>0.116768</td>\n",
       "    </tr>\n",
       "    <tr>\n",
       "      <th>Category_Clothing</th>\n",
       "      <td>0.102210</td>\n",
       "    </tr>\n",
       "    <tr>\n",
       "      <th>Frequency of Purchases</th>\n",
       "      <td>0.091778</td>\n",
       "    </tr>\n",
       "    <tr>\n",
       "      <th>Gender_Male</th>\n",
       "      <td>0.000000</td>\n",
       "    </tr>\n",
       "    <tr>\n",
       "      <th>Discount Applied_Yes</th>\n",
       "      <td>0.000000</td>\n",
       "    </tr>\n",
       "  </tbody>\n",
       "</table>\n",
       "</div>"
      ],
      "text/plain": [
       "                        Importance\n",
       "Age                       0.151293\n",
       "Purchase Amount (USD)     0.144764\n",
       "Season_Winter             0.137296\n",
       "Size                      0.133915\n",
       "Season_Spring             0.121975\n",
       "Previous Purchases        0.116768\n",
       "Category_Clothing         0.102210\n",
       "Frequency of Purchases    0.091778\n",
       "Gender_Male               0.000000\n",
       "Discount Applied_Yes      0.000000"
      ]
     },
     "execution_count": 17,
     "metadata": {},
     "output_type": "execute_result"
    }
   ],
   "source": [
    "r1_df_1_coefficients = r1_df1.get_coefficients(model_name='xgboost').sort_values(by='Importance', ascending=False)\n",
    "r1_df_1_coefficients"
   ]
  },
  {
   "cell_type": "markdown",
   "metadata": {},
   "source": [
    "## Recursive feature elimination - 'Frequency of Purchases'"
   ]
  },
  {
   "cell_type": "code",
   "execution_count": 18,
   "metadata": {},
   "outputs": [],
   "source": [
    "selecelected_features_frequency = apply_rfe(df_without_cluster, 'Frequency of Purchases')"
   ]
  },
  {
   "cell_type": "code",
   "execution_count": 19,
   "metadata": {},
   "outputs": [
    {
     "data": {
      "text/plain": [
       "['Size',\n",
       " 'Age',\n",
       " 'Purchase Amount (USD)',\n",
       " 'Review Rating',\n",
       " 'Previous Purchases',\n",
       " 'Gender_Male',\n",
       " 'Category_Clothing',\n",
       " 'Season_Spring',\n",
       " 'Shipping Type_Free Shipping',\n",
       " 'Shipping Type_Standard',\n",
       " 'Frequency of Purchases']"
      ]
     },
     "execution_count": 19,
     "metadata": {},
     "output_type": "execute_result"
    }
   ],
   "source": [
    "selecelected_features_frequency"
   ]
  },
  {
   "cell_type": "markdown",
   "metadata": {},
   "source": [
    "## Regression on features selected in RFE 'Frequency od Purchases'"
   ]
  },
  {
   "cell_type": "markdown",
   "metadata": {},
   "source": [
    "### Prepare datasets"
   ]
  },
  {
   "cell_type": "code",
   "execution_count": 20,
   "metadata": {},
   "outputs": [],
   "source": [
    "df_0_r2 = df[df['cluster'] == 0]\n",
    "df_0_r2 = df_0_r2.drop(columns=['cluster'])\n",
    "df_0_r2_selected_features = df_0_r2[selecelected_features_frequency]\n",
    "\n",
    "df_1_r2 = df[df['cluster'] == 1]\n",
    "df_1_r2 = df_1_r2.drop(columns=['cluster'])\n",
    "df_1_r2_selected_features = df_1_r2[selecelected_features_frequency]"
   ]
  },
  {
   "cell_type": "markdown",
   "metadata": {},
   "source": [
    "### Perform regression"
   ]
  },
  {
   "cell_type": "code",
   "execution_count": 21,
   "metadata": {},
   "outputs": [],
   "source": [
    "# Declare the regression analysis object\n",
    "r2_df0 = RegressionAnalysis(data = df_0_selected_features, target_column = 'Frequency of Purchases')\n",
    "r2_df1 = RegressionAnalysis(data = df_1_selected_features, target_column = 'Frequency of Purchases')"
   ]
  },
  {
   "cell_type": "code",
   "execution_count": 22,
   "metadata": {},
   "outputs": [],
   "source": [
    "r2_df0.prepare_data()\n",
    "#r2_df0.fit_linear_regression()\n",
    "#r2_df0.tune_ridge_regression()\n",
    "#r2_df0.tune_lasso_regression()\n",
    "r2_df0.tune_xgboost()\n",
    "#r2_df0.tune_random_forest()\n",
    "r2_df_0_evaluation = r2_df0.evaluate_models()"
   ]
  },
  {
   "cell_type": "code",
   "execution_count": 23,
   "metadata": {},
   "outputs": [],
   "source": [
    "r2_df1.prepare_data()\n",
    "#r2_df1.fit_linear_regression()\n",
    "#r2_df1.tune_ridge_regression()\n",
    "#r2_df1.tune_lasso_regression()\n",
    "r2_df1.tune_xgboost()\n",
    "#r2_df1.tune_random_forest()\n",
    "r2_df_1_evaluation = r2_df1.evaluate_models()"
   ]
  },
  {
   "cell_type": "markdown",
   "metadata": {},
   "source": [
    "### Models evaluation"
   ]
  },
  {
   "cell_type": "code",
   "execution_count": 24,
   "metadata": {},
   "outputs": [
    {
     "data": {
      "text/html": [
       "<div>\n",
       "<style scoped>\n",
       "    .dataframe tbody tr th:only-of-type {\n",
       "        vertical-align: middle;\n",
       "    }\n",
       "\n",
       "    .dataframe tbody tr th {\n",
       "        vertical-align: top;\n",
       "    }\n",
       "\n",
       "    .dataframe thead th {\n",
       "        text-align: right;\n",
       "    }\n",
       "</style>\n",
       "<table border=\"1\" class=\"dataframe\">\n",
       "  <thead>\n",
       "    <tr style=\"text-align: right;\">\n",
       "      <th></th>\n",
       "      <th>Model</th>\n",
       "      <th>RMSE</th>\n",
       "      <th>MAPE</th>\n",
       "      <th>R2</th>\n",
       "    </tr>\n",
       "  </thead>\n",
       "  <tbody>\n",
       "    <tr>\n",
       "      <th>0</th>\n",
       "      <td>xgboost</td>\n",
       "      <td>0.682884</td>\n",
       "      <td>0.313487</td>\n",
       "      <td>0.002976</td>\n",
       "    </tr>\n",
       "  </tbody>\n",
       "</table>\n",
       "</div>"
      ],
      "text/plain": [
       "     Model      RMSE      MAPE        R2\n",
       "0  xgboost  0.682884  0.313487  0.002976"
      ]
     },
     "execution_count": 24,
     "metadata": {},
     "output_type": "execute_result"
    }
   ],
   "source": [
    "r2_df_0_evaluation.sort_values(by='R2', ascending=False)"
   ]
  },
  {
   "cell_type": "code",
   "execution_count": 25,
   "metadata": {},
   "outputs": [
    {
     "data": {
      "text/html": [
       "<div>\n",
       "<style scoped>\n",
       "    .dataframe tbody tr th:only-of-type {\n",
       "        vertical-align: middle;\n",
       "    }\n",
       "\n",
       "    .dataframe tbody tr th {\n",
       "        vertical-align: top;\n",
       "    }\n",
       "\n",
       "    .dataframe thead th {\n",
       "        text-align: right;\n",
       "    }\n",
       "</style>\n",
       "<table border=\"1\" class=\"dataframe\">\n",
       "  <thead>\n",
       "    <tr style=\"text-align: right;\">\n",
       "      <th></th>\n",
       "      <th>Model</th>\n",
       "      <th>RMSE</th>\n",
       "      <th>MAPE</th>\n",
       "      <th>R2</th>\n",
       "    </tr>\n",
       "  </thead>\n",
       "  <tbody>\n",
       "    <tr>\n",
       "      <th>0</th>\n",
       "      <td>xgboost</td>\n",
       "      <td>0.834912</td>\n",
       "      <td>0.147462</td>\n",
       "      <td>-0.008593</td>\n",
       "    </tr>\n",
       "  </tbody>\n",
       "</table>\n",
       "</div>"
      ],
      "text/plain": [
       "     Model      RMSE      MAPE        R2\n",
       "0  xgboost  0.834912  0.147462 -0.008593"
      ]
     },
     "execution_count": 25,
     "metadata": {},
     "output_type": "execute_result"
    }
   ],
   "source": [
    "r2_df_1_evaluation.sort_values(by='R2', ascending=False)"
   ]
  },
  {
   "cell_type": "markdown",
   "metadata": {},
   "source": [
    "### Check coefficients"
   ]
  },
  {
   "cell_type": "code",
   "execution_count": 26,
   "metadata": {},
   "outputs": [
    {
     "data": {
      "text/html": [
       "<div>\n",
       "<style scoped>\n",
       "    .dataframe tbody tr th:only-of-type {\n",
       "        vertical-align: middle;\n",
       "    }\n",
       "\n",
       "    .dataframe tbody tr th {\n",
       "        vertical-align: top;\n",
       "    }\n",
       "\n",
       "    .dataframe thead th {\n",
       "        text-align: right;\n",
       "    }\n",
       "</style>\n",
       "<table border=\"1\" class=\"dataframe\">\n",
       "  <thead>\n",
       "    <tr style=\"text-align: right;\">\n",
       "      <th></th>\n",
       "      <th>Importance</th>\n",
       "    </tr>\n",
       "  </thead>\n",
       "  <tbody>\n",
       "    <tr>\n",
       "      <th>Purchase Amount (USD)</th>\n",
       "      <td>0.194307</td>\n",
       "    </tr>\n",
       "    <tr>\n",
       "      <th>Review Rating</th>\n",
       "      <td>0.184881</td>\n",
       "    </tr>\n",
       "    <tr>\n",
       "      <th>Age</th>\n",
       "      <td>0.177713</td>\n",
       "    </tr>\n",
       "    <tr>\n",
       "      <th>Previous Purchases</th>\n",
       "      <td>0.165140</td>\n",
       "    </tr>\n",
       "    <tr>\n",
       "      <th>Size</th>\n",
       "      <td>0.158515</td>\n",
       "    </tr>\n",
       "    <tr>\n",
       "      <th>Season_Spring</th>\n",
       "      <td>0.119444</td>\n",
       "    </tr>\n",
       "    <tr>\n",
       "      <th>Gender_Male</th>\n",
       "      <td>0.000000</td>\n",
       "    </tr>\n",
       "    <tr>\n",
       "      <th>Category_Clothing</th>\n",
       "      <td>0.000000</td>\n",
       "    </tr>\n",
       "    <tr>\n",
       "      <th>Season_Winter</th>\n",
       "      <td>0.000000</td>\n",
       "    </tr>\n",
       "    <tr>\n",
       "      <th>Discount Applied_Yes</th>\n",
       "      <td>0.000000</td>\n",
       "    </tr>\n",
       "  </tbody>\n",
       "</table>\n",
       "</div>"
      ],
      "text/plain": [
       "                       Importance\n",
       "Purchase Amount (USD)    0.194307\n",
       "Review Rating            0.184881\n",
       "Age                      0.177713\n",
       "Previous Purchases       0.165140\n",
       "Size                     0.158515\n",
       "Season_Spring            0.119444\n",
       "Gender_Male              0.000000\n",
       "Category_Clothing        0.000000\n",
       "Season_Winter            0.000000\n",
       "Discount Applied_Yes     0.000000"
      ]
     },
     "execution_count": 26,
     "metadata": {},
     "output_type": "execute_result"
    }
   ],
   "source": [
    "r2_df_0_coefficients = r2_df0.get_coefficients(model_name='xgboost').sort_values(by='Importance', ascending=False)\n",
    "r2_df_0_coefficients"
   ]
  },
  {
   "cell_type": "code",
   "execution_count": 27,
   "metadata": {},
   "outputs": [
    {
     "data": {
      "text/html": [
       "<div>\n",
       "<style scoped>\n",
       "    .dataframe tbody tr th:only-of-type {\n",
       "        vertical-align: middle;\n",
       "    }\n",
       "\n",
       "    .dataframe tbody tr th {\n",
       "        vertical-align: top;\n",
       "    }\n",
       "\n",
       "    .dataframe thead th {\n",
       "        text-align: right;\n",
       "    }\n",
       "</style>\n",
       "<table border=\"1\" class=\"dataframe\">\n",
       "  <thead>\n",
       "    <tr style=\"text-align: right;\">\n",
       "      <th></th>\n",
       "      <th>Importance</th>\n",
       "    </tr>\n",
       "  </thead>\n",
       "  <tbody>\n",
       "    <tr>\n",
       "      <th>Season_Winter</th>\n",
       "      <td>0.165219</td>\n",
       "    </tr>\n",
       "    <tr>\n",
       "      <th>Gender_Male</th>\n",
       "      <td>0.156775</td>\n",
       "    </tr>\n",
       "    <tr>\n",
       "      <th>Age</th>\n",
       "      <td>0.136669</td>\n",
       "    </tr>\n",
       "    <tr>\n",
       "      <th>Purchase Amount (USD)</th>\n",
       "      <td>0.126254</td>\n",
       "    </tr>\n",
       "    <tr>\n",
       "      <th>Season_Spring</th>\n",
       "      <td>0.123808</td>\n",
       "    </tr>\n",
       "    <tr>\n",
       "      <th>Previous Purchases</th>\n",
       "      <td>0.123127</td>\n",
       "    </tr>\n",
       "    <tr>\n",
       "      <th>Review Rating</th>\n",
       "      <td>0.100373</td>\n",
       "    </tr>\n",
       "    <tr>\n",
       "      <th>Category_Clothing</th>\n",
       "      <td>0.067776</td>\n",
       "    </tr>\n",
       "    <tr>\n",
       "      <th>Size</th>\n",
       "      <td>0.000000</td>\n",
       "    </tr>\n",
       "    <tr>\n",
       "      <th>Discount Applied_Yes</th>\n",
       "      <td>0.000000</td>\n",
       "    </tr>\n",
       "  </tbody>\n",
       "</table>\n",
       "</div>"
      ],
      "text/plain": [
       "                       Importance\n",
       "Season_Winter            0.165219\n",
       "Gender_Male              0.156775\n",
       "Age                      0.136669\n",
       "Purchase Amount (USD)    0.126254\n",
       "Season_Spring            0.123808\n",
       "Previous Purchases       0.123127\n",
       "Review Rating            0.100373\n",
       "Category_Clothing        0.067776\n",
       "Size                     0.000000\n",
       "Discount Applied_Yes     0.000000"
      ]
     },
     "execution_count": 27,
     "metadata": {},
     "output_type": "execute_result"
    }
   ],
   "source": [
    "r2_df_1_coefficients = r2_df1.get_coefficients(model_name='xgboost').sort_values(by='Importance', ascending=False)\n",
    "r2_df_1_coefficients"
   ]
  },
  {
   "cell_type": "markdown",
   "metadata": {},
   "source": [
    "## Conclusion\n",
    "\n",
    "The best model in regression 1 (y - 'Review Rating'):\n",
    "* df_0 - ridge\n",
    "* df_1 - xgboost\n",
    "\n",
    "The best model in regression 2 (y - 'Frequency od Purchases'):\n",
    "* df_0 - xgboost\n",
    "* df_1 - ridge\n",
    "\n",
    "Finally we take everywhere xgboost to compare Importance score"
   ]
  },
  {
   "cell_type": "markdown",
   "metadata": {},
   "source": [
    "### Save results"
   ]
  },
  {
   "cell_type": "code",
   "execution_count": 28,
   "metadata": {},
   "outputs": [],
   "source": [
    "# convert index of r1_df_0_coefficients to column\n",
    "r1_df_0_coefficients.reset_index(level=0, inplace=True)\n",
    "r1_df_1_coefficients.reset_index(level=0, inplace=True)\n",
    "\n",
    "r2_df_0_coefficients.reset_index(level=0, inplace=True)\n",
    "r2_df_1_coefficients.reset_index(level=0, inplace=True)"
   ]
  },
  {
   "cell_type": "code",
   "execution_count": 29,
   "metadata": {},
   "outputs": [],
   "source": [
    "# change name of columns from 'Index' to 'Feature'\n",
    "r1_df_0_coefficients.rename(columns={'index': 'Feature'}, inplace=True)\n",
    "r1_df_1_coefficients.rename(columns={'index': 'Feature'}, inplace=True)\n",
    "\n",
    "r2_df_0_coefficients.rename(columns={'index': 'Feature'}, inplace=True)\n",
    "r2_df_1_coefficients.rename(columns={'index': 'Feature'}, inplace=True)"
   ]
  },
  {
   "cell_type": "code",
   "execution_count": 30,
   "metadata": {},
   "outputs": [],
   "source": [
    "r1_df_0_coefficients['regression_id'] = 1\n",
    "r1_df_0_coefficients['df_id'] = 0\n",
    "r1_df_0_coefficients['model'] = 'xgboost'\n",
    "\n",
    "r1_df_1_coefficients['regression_id'] = 1\n",
    "r1_df_1_coefficients['df_id'] = 1\n",
    "r1_df_1_coefficients['model'] = 'xgboost'\n",
    "\n",
    "r2_df_0_coefficients['regression_id'] = 2\n",
    "r2_df_0_coefficients['df_id'] = 0\n",
    "r2_df_0_coefficients['model'] = 'xgboost'\n",
    "\n",
    "r2_df_1_coefficients['regression_id'] = 2\n",
    "r2_df_1_coefficients['df_id'] = 1\n",
    "r2_df_1_coefficients['model'] = 'xgboost'"
   ]
  },
  {
   "cell_type": "code",
   "execution_count": 31,
   "metadata": {},
   "outputs": [],
   "source": [
    "r1_df_0_coefficients.to_csv('../results/regression/r1_df_0_coefficients.csv', index = False)\n",
    "r1_df_1_coefficients.to_csv('../results/regression/r1_df_1_coefficients.csv', index = False)\n",
    "\n",
    "r2_df_0_coefficients.to_csv('../results/regression/r2_df_0_coefficients.csv', index = False)\n",
    "r2_df_1_coefficients.to_csv('../results/regression/r2_df_1_coefficients.csv', index = False)"
   ]
  },
  {
   "cell_type": "code",
   "execution_count": 32,
   "metadata": {},
   "outputs": [],
   "source": [
    "# merge all coefficients\n",
    "all_coefficients = pd.concat([r1_df_0_coefficients, r1_df_1_coefficients, r2_df_0_coefficients, r2_df_1_coefficients])\n",
    "all_coefficients.to_csv('../results/regression/all_coefficients.csv', index = False)"
   ]
  }
 ],
 "metadata": {
  "kernelspec": {
   "display_name": "Python 3",
   "language": "python",
   "name": "python3"
  },
  "language_info": {
   "codemirror_mode": {
    "name": "ipython",
    "version": 3
   },
   "file_extension": ".py",
   "mimetype": "text/x-python",
   "name": "python",
   "nbconvert_exporter": "python",
   "pygments_lexer": "ipython3",
   "version": "3.11.2"
  }
 },
 "nbformat": 4,
 "nbformat_minor": 2
}
