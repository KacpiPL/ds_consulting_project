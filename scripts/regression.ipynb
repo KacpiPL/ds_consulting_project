{
 "cells": [
  {
   "cell_type": "code",
   "execution_count": 1,
   "metadata": {},
   "outputs": [],
   "source": [
    "import pandas as pd\n",
    "from utils.regression import RegressionAnalysis\n",
    "from sklearn.model_selection import train_test_split\n",
    "from sklearn.ensemble import RandomForestRegressor\n",
    "from sklearn.feature_selection import RFE\n",
    "from utils.rfe import apply_rfe"
   ]
  },
  {
   "cell_type": "code",
   "execution_count": 2,
   "metadata": {},
   "outputs": [],
   "source": [
    "df = pd.read_csv('../data/cleaned_data_cluster.csv')\n",
    "# select df without cluster column\n",
    "df_without_cluster = df.drop(columns=['cluster'])"
   ]
  },
  {
   "cell_type": "markdown",
   "metadata": {},
   "source": [
    "## Recursive feature elimination - 'Review Rating'"
   ]
  },
  {
   "cell_type": "code",
   "execution_count": 3,
   "metadata": {},
   "outputs": [],
   "source": [
    "seleselected_features_rating = apply_rfe(df_without_cluster, 'Review Rating')"
   ]
  },
  {
   "cell_type": "code",
   "execution_count": 4,
   "metadata": {},
   "outputs": [
    {
     "data": {
      "text/plain": [
       "['Size',\n",
       " 'Frequency of Purchases',\n",
       " 'Age',\n",
       " 'Purchase Amount (USD)',\n",
       " 'Previous Purchases',\n",
       " 'Gender_Male',\n",
       " 'Category_Clothing',\n",
       " 'Season_Spring',\n",
       " 'Season_Summer',\n",
       " 'Discount Applied_Yes',\n",
       " 'Review Rating']"
      ]
     },
     "execution_count": 4,
     "metadata": {},
     "output_type": "execute_result"
    }
   ],
   "source": [
    "seleselected_features_rating"
   ]
  },
  {
   "cell_type": "markdown",
   "metadata": {},
   "source": [
    "## Regression on features selected in RFE - 'Review Rating'"
   ]
  },
  {
   "cell_type": "markdown",
   "metadata": {},
   "source": [
    "### Prepare datasets"
   ]
  },
  {
   "cell_type": "code",
   "execution_count": 5,
   "metadata": {},
   "outputs": [],
   "source": [
    "df_0 = df[df['cluster'] == 0]\n",
    "df_0 = df_0.drop(columns=['cluster'])\n",
    "df_0_selected_features = df_0[seleselected_features_rating]\n",
    "\n",
    "df_1 = df[df['cluster'] == 1]\n",
    "df_1 = df_1.drop(columns=['cluster'])\n",
    "df_1_selected_features = df_1[seleselected_features_rating]"
   ]
  },
  {
   "cell_type": "markdown",
   "metadata": {},
   "source": [
    "### Perform regression"
   ]
  },
  {
   "cell_type": "code",
   "execution_count": 6,
   "metadata": {},
   "outputs": [],
   "source": [
    "# Declare the regression analysis object\n",
    "r1_df0 = RegressionAnalysis(data = df_0_selected_features, target_column = 'Review Rating')\n",
    "r1_df1 = RegressionAnalysis(data = df_1_selected_features, target_column = 'Review Rating')"
   ]
  },
  {
   "cell_type": "code",
   "execution_count": 7,
   "metadata": {},
   "outputs": [],
   "source": [
    "r1_df0.prepare_data()\n",
    "r1_df0.fit_linear_regression()\n",
    "r1_df0.tune_ridge_regression()\n",
    "r1_df0.tune_lasso_regression()\n",
    "r1_df0.tune_xgboost()\n",
    "r1_df0.tune_random_forest()\n",
    "r1_df_0_evaluation = r1_df0.evaluate_models()"
   ]
  },
  {
   "cell_type": "code",
   "execution_count": 8,
   "metadata": {},
   "outputs": [],
   "source": [
    "r1_df1.prepare_data()\n",
    "r1_df1.fit_linear_regression()\n",
    "r1_df1.tune_ridge_regression()\n",
    "r1_df1.tune_lasso_regression()\n",
    "r1_df1.tune_xgboost()\n",
    "r1_df1.tune_random_forest()\n",
    "r1_df_1_evaluation = r1_df1.evaluate_models()"
   ]
  },
  {
   "cell_type": "markdown",
   "metadata": {},
   "source": [
    "### Models evaluation"
   ]
  },
  {
   "cell_type": "code",
   "execution_count": 9,
   "metadata": {},
   "outputs": [
    {
     "data": {
      "text/html": [
       "<div>\n",
       "<style scoped>\n",
       "    .dataframe tbody tr th:only-of-type {\n",
       "        vertical-align: middle;\n",
       "    }\n",
       "\n",
       "    .dataframe tbody tr th {\n",
       "        vertical-align: top;\n",
       "    }\n",
       "\n",
       "    .dataframe thead th {\n",
       "        text-align: right;\n",
       "    }\n",
       "</style>\n",
       "<table border=\"1\" class=\"dataframe\">\n",
       "  <thead>\n",
       "    <tr style=\"text-align: right;\">\n",
       "      <th></th>\n",
       "      <th>Model</th>\n",
       "      <th>RMSE</th>\n",
       "      <th>MAPE</th>\n",
       "      <th>R2</th>\n",
       "    </tr>\n",
       "  </thead>\n",
       "  <tbody>\n",
       "    <tr>\n",
       "      <th>1</th>\n",
       "      <td>ridge</td>\n",
       "      <td>0.286592</td>\n",
       "      <td>3.082892e+12</td>\n",
       "      <td>-0.012230</td>\n",
       "    </tr>\n",
       "    <tr>\n",
       "      <th>2</th>\n",
       "      <td>lasso</td>\n",
       "      <td>0.286878</td>\n",
       "      <td>3.252254e+12</td>\n",
       "      <td>-0.014253</td>\n",
       "    </tr>\n",
       "    <tr>\n",
       "      <th>0</th>\n",
       "      <td>linear</td>\n",
       "      <td>0.286917</td>\n",
       "      <td>2.976683e+12</td>\n",
       "      <td>-0.014529</td>\n",
       "    </tr>\n",
       "    <tr>\n",
       "      <th>3</th>\n",
       "      <td>xgboost</td>\n",
       "      <td>0.287297</td>\n",
       "      <td>3.152886e+12</td>\n",
       "      <td>-0.017221</td>\n",
       "    </tr>\n",
       "    <tr>\n",
       "      <th>4</th>\n",
       "      <td>random_forest</td>\n",
       "      <td>0.294252</td>\n",
       "      <td>3.115572e+12</td>\n",
       "      <td>-0.067069</td>\n",
       "    </tr>\n",
       "  </tbody>\n",
       "</table>\n",
       "</div>"
      ],
      "text/plain": [
       "           Model      RMSE          MAPE        R2\n",
       "1          ridge  0.286592  3.082892e+12 -0.012230\n",
       "2          lasso  0.286878  3.252254e+12 -0.014253\n",
       "0         linear  0.286917  2.976683e+12 -0.014529\n",
       "3        xgboost  0.287297  3.152886e+12 -0.017221\n",
       "4  random_forest  0.294252  3.115572e+12 -0.067069"
      ]
     },
     "execution_count": 9,
     "metadata": {},
     "output_type": "execute_result"
    }
   ],
   "source": [
    "r1_df_0_evaluation.sort_values(by='R2', ascending=False)"
   ]
  },
  {
   "cell_type": "code",
   "execution_count": 10,
   "metadata": {},
   "outputs": [
    {
     "data": {
      "text/html": [
       "<div>\n",
       "<style scoped>\n",
       "    .dataframe tbody tr th:only-of-type {\n",
       "        vertical-align: middle;\n",
       "    }\n",
       "\n",
       "    .dataframe tbody tr th {\n",
       "        vertical-align: top;\n",
       "    }\n",
       "\n",
       "    .dataframe thead th {\n",
       "        text-align: right;\n",
       "    }\n",
       "</style>\n",
       "<table border=\"1\" class=\"dataframe\">\n",
       "  <thead>\n",
       "    <tr style=\"text-align: right;\">\n",
       "      <th></th>\n",
       "      <th>Model</th>\n",
       "      <th>RMSE</th>\n",
       "      <th>MAPE</th>\n",
       "      <th>R2</th>\n",
       "    </tr>\n",
       "  </thead>\n",
       "  <tbody>\n",
       "    <tr>\n",
       "      <th>3</th>\n",
       "      <td>xgboost</td>\n",
       "      <td>0.280828</td>\n",
       "      <td>4.103181e+13</td>\n",
       "      <td>-0.000416</td>\n",
       "    </tr>\n",
       "    <tr>\n",
       "      <th>2</th>\n",
       "      <td>lasso</td>\n",
       "      <td>0.281128</td>\n",
       "      <td>4.077320e+13</td>\n",
       "      <td>-0.002554</td>\n",
       "    </tr>\n",
       "    <tr>\n",
       "      <th>1</th>\n",
       "      <td>ridge</td>\n",
       "      <td>0.281700</td>\n",
       "      <td>4.130140e+13</td>\n",
       "      <td>-0.006637</td>\n",
       "    </tr>\n",
       "    <tr>\n",
       "      <th>0</th>\n",
       "      <td>linear</td>\n",
       "      <td>0.282319</td>\n",
       "      <td>4.136398e+13</td>\n",
       "      <td>-0.011069</td>\n",
       "    </tr>\n",
       "    <tr>\n",
       "      <th>4</th>\n",
       "      <td>random_forest</td>\n",
       "      <td>0.287313</td>\n",
       "      <td>4.024904e+13</td>\n",
       "      <td>-0.047155</td>\n",
       "    </tr>\n",
       "  </tbody>\n",
       "</table>\n",
       "</div>"
      ],
      "text/plain": [
       "           Model      RMSE          MAPE        R2\n",
       "3        xgboost  0.280828  4.103181e+13 -0.000416\n",
       "2          lasso  0.281128  4.077320e+13 -0.002554\n",
       "1          ridge  0.281700  4.130140e+13 -0.006637\n",
       "0         linear  0.282319  4.136398e+13 -0.011069\n",
       "4  random_forest  0.287313  4.024904e+13 -0.047155"
      ]
     },
     "execution_count": 10,
     "metadata": {},
     "output_type": "execute_result"
    }
   ],
   "source": [
    "r1_df_1_evaluation.sort_values(by='R2', ascending=False)"
   ]
  },
  {
   "cell_type": "markdown",
   "metadata": {},
   "source": [
    "### Check coefficients"
   ]
  },
  {
   "cell_type": "code",
   "execution_count": 101,
   "metadata": {},
   "outputs": [
    {
     "data": {
      "text/html": [
       "<div>\n",
       "<style scoped>\n",
       "    .dataframe tbody tr th:only-of-type {\n",
       "        vertical-align: middle;\n",
       "    }\n",
       "\n",
       "    .dataframe tbody tr th {\n",
       "        vertical-align: top;\n",
       "    }\n",
       "\n",
       "    .dataframe thead th {\n",
       "        text-align: right;\n",
       "    }\n",
       "</style>\n",
       "<table border=\"1\" class=\"dataframe\">\n",
       "  <thead>\n",
       "    <tr style=\"text-align: right;\">\n",
       "      <th></th>\n",
       "      <th>Coefficient</th>\n",
       "    </tr>\n",
       "  </thead>\n",
       "  <tbody>\n",
       "    <tr>\n",
       "      <th>Purchase Amount (USD)</th>\n",
       "      <td>0.039061</td>\n",
       "    </tr>\n",
       "    <tr>\n",
       "      <th>Season_Spring</th>\n",
       "      <td>0.011705</td>\n",
       "    </tr>\n",
       "    <tr>\n",
       "      <th>Season_Summer</th>\n",
       "      <td>0.008859</td>\n",
       "    </tr>\n",
       "    <tr>\n",
       "      <th>Gender_Male</th>\n",
       "      <td>0.005944</td>\n",
       "    </tr>\n",
       "    <tr>\n",
       "      <th>Size</th>\n",
       "      <td>0.002664</td>\n",
       "    </tr>\n",
       "    <tr>\n",
       "      <th>Category_Clothing</th>\n",
       "      <td>0.000997</td>\n",
       "    </tr>\n",
       "    <tr>\n",
       "      <th>Frequency of Purchases</th>\n",
       "      <td>0.000618</td>\n",
       "    </tr>\n",
       "    <tr>\n",
       "      <th>Discount Applied_Yes</th>\n",
       "      <td>-0.007269</td>\n",
       "    </tr>\n",
       "    <tr>\n",
       "      <th>Previous Purchases</th>\n",
       "      <td>-0.012278</td>\n",
       "    </tr>\n",
       "    <tr>\n",
       "      <th>Age</th>\n",
       "      <td>-0.032116</td>\n",
       "    </tr>\n",
       "  </tbody>\n",
       "</table>\n",
       "</div>"
      ],
      "text/plain": [
       "                        Coefficient\n",
       "Purchase Amount (USD)      0.039061\n",
       "Season_Spring              0.011705\n",
       "Season_Summer              0.008859\n",
       "Gender_Male                0.005944\n",
       "Size                       0.002664\n",
       "Category_Clothing          0.000997\n",
       "Frequency of Purchases     0.000618\n",
       "Discount Applied_Yes      -0.007269\n",
       "Previous Purchases        -0.012278\n",
       "Age                       -0.032116"
      ]
     },
     "execution_count": 101,
     "metadata": {},
     "output_type": "execute_result"
    }
   ],
   "source": [
    "r1_df_0_coefficients = r1_df0.get_coefficients(model_name='ridge').sort_values(by='Coefficient', ascending=False)\n",
    "r1_df_0_coefficients"
   ]
  },
  {
   "cell_type": "code",
   "execution_count": 102,
   "metadata": {},
   "outputs": [
    {
     "data": {
      "text/html": [
       "<div>\n",
       "<style scoped>\n",
       "    .dataframe tbody tr th:only-of-type {\n",
       "        vertical-align: middle;\n",
       "    }\n",
       "\n",
       "    .dataframe tbody tr th {\n",
       "        vertical-align: top;\n",
       "    }\n",
       "\n",
       "    .dataframe thead th {\n",
       "        text-align: right;\n",
       "    }\n",
       "</style>\n",
       "<table border=\"1\" class=\"dataframe\">\n",
       "  <thead>\n",
       "    <tr style=\"text-align: right;\">\n",
       "      <th></th>\n",
       "      <th>Importance</th>\n",
       "    </tr>\n",
       "  </thead>\n",
       "  <tbody>\n",
       "    <tr>\n",
       "      <th>Size</th>\n",
       "      <td>0.239664</td>\n",
       "    </tr>\n",
       "    <tr>\n",
       "      <th>Age</th>\n",
       "      <td>0.131583</td>\n",
       "    </tr>\n",
       "    <tr>\n",
       "      <th>Purchase Amount (USD)</th>\n",
       "      <td>0.118664</td>\n",
       "    </tr>\n",
       "    <tr>\n",
       "      <th>Season_Spring</th>\n",
       "      <td>0.117237</td>\n",
       "    </tr>\n",
       "    <tr>\n",
       "      <th>Season_Summer</th>\n",
       "      <td>0.110827</td>\n",
       "    </tr>\n",
       "    <tr>\n",
       "      <th>Previous Purchases</th>\n",
       "      <td>0.099604</td>\n",
       "    </tr>\n",
       "    <tr>\n",
       "      <th>Category_Clothing</th>\n",
       "      <td>0.092562</td>\n",
       "    </tr>\n",
       "    <tr>\n",
       "      <th>Frequency of Purchases</th>\n",
       "      <td>0.089858</td>\n",
       "    </tr>\n",
       "    <tr>\n",
       "      <th>Gender_Male</th>\n",
       "      <td>0.000000</td>\n",
       "    </tr>\n",
       "    <tr>\n",
       "      <th>Discount Applied_Yes</th>\n",
       "      <td>0.000000</td>\n",
       "    </tr>\n",
       "  </tbody>\n",
       "</table>\n",
       "</div>"
      ],
      "text/plain": [
       "                        Importance\n",
       "Size                      0.239664\n",
       "Age                       0.131583\n",
       "Purchase Amount (USD)     0.118664\n",
       "Season_Spring             0.117237\n",
       "Season_Summer             0.110827\n",
       "Previous Purchases        0.099604\n",
       "Category_Clothing         0.092562\n",
       "Frequency of Purchases    0.089858\n",
       "Gender_Male               0.000000\n",
       "Discount Applied_Yes      0.000000"
      ]
     },
     "execution_count": 102,
     "metadata": {},
     "output_type": "execute_result"
    }
   ],
   "source": [
    "r1_df_1_coefficients = r1_df1.get_coefficients(model_name='xgboost').sort_values(by='Importance', ascending=False)\n",
    "r1_df_1_coefficients"
   ]
  },
  {
   "cell_type": "markdown",
   "metadata": {},
   "source": [
    "## Recursive feature elimination - 'Frequency of Purchases'"
   ]
  },
  {
   "cell_type": "code",
   "execution_count": 13,
   "metadata": {},
   "outputs": [],
   "source": [
    "selecelected_features_frequency = apply_rfe(df_without_cluster, 'Frequency of Purchases')"
   ]
  },
  {
   "cell_type": "code",
   "execution_count": 14,
   "metadata": {},
   "outputs": [
    {
     "data": {
      "text/plain": [
       "['Size',\n",
       " 'Age',\n",
       " 'Purchase Amount (USD)',\n",
       " 'Review Rating',\n",
       " 'Previous Purchases',\n",
       " 'Gender_Male',\n",
       " 'Category_Clothing',\n",
       " 'Season_Spring',\n",
       " 'Shipping Type_Standard',\n",
       " 'Discount Applied_Yes',\n",
       " 'Frequency of Purchases']"
      ]
     },
     "execution_count": 14,
     "metadata": {},
     "output_type": "execute_result"
    }
   ],
   "source": [
    "selecelected_features_frequency"
   ]
  },
  {
   "cell_type": "markdown",
   "metadata": {},
   "source": [
    "## Regression on features selected in RFE 'Frequency od Purchases'"
   ]
  },
  {
   "cell_type": "markdown",
   "metadata": {},
   "source": [
    "### Prepare datasets"
   ]
  },
  {
   "cell_type": "code",
   "execution_count": 73,
   "metadata": {},
   "outputs": [],
   "source": [
    "df_0_r2 = df[df['cluster'] == 0]\n",
    "df_0_r2 = df_0_r2.drop(columns=['cluster'])\n",
    "df_0_r2_selected_features = df_0_r2[selecelected_features_frequency]\n",
    "\n",
    "df_1_r2 = df[df['cluster'] == 1]\n",
    "df_1_r2 = df_1_r2.drop(columns=['cluster'])\n",
    "df_1_r2_selected_features = df_1_r2[selecelected_features_frequency]"
   ]
  },
  {
   "cell_type": "markdown",
   "metadata": {},
   "source": [
    "### Perform regression"
   ]
  },
  {
   "cell_type": "code",
   "execution_count": 74,
   "metadata": {},
   "outputs": [],
   "source": [
    "# Declare the regression analysis object\n",
    "r2_df0 = RegressionAnalysis(data = df_0_selected_features, target_column = 'Frequency of Purchases')\n",
    "r2_df1 = RegressionAnalysis(data = df_1_selected_features, target_column = 'Frequency of Purchases')"
   ]
  },
  {
   "cell_type": "code",
   "execution_count": 75,
   "metadata": {},
   "outputs": [],
   "source": [
    "r2_df0.prepare_data()\n",
    "r2_df0.fit_linear_regression()\n",
    "r2_df0.tune_ridge_regression()\n",
    "r2_df0.tune_lasso_regression()\n",
    "r2_df0.tune_xgboost()\n",
    "r2_df0.tune_random_forest()\n",
    "r2_df_0_evaluation = r2_df0.evaluate_models()"
   ]
  },
  {
   "cell_type": "code",
   "execution_count": 76,
   "metadata": {},
   "outputs": [],
   "source": [
    "r2_df1.prepare_data()\n",
    "r2_df1.fit_linear_regression()\n",
    "r2_df1.tune_ridge_regression()\n",
    "r2_df1.tune_lasso_regression()\n",
    "r2_df1.tune_xgboost()\n",
    "r2_df1.tune_random_forest()\n",
    "r2_df_1_evaluation = r2_df1.evaluate_models()"
   ]
  },
  {
   "cell_type": "markdown",
   "metadata": {},
   "source": [
    "### Models evaluation"
   ]
  },
  {
   "cell_type": "code",
   "execution_count": 77,
   "metadata": {},
   "outputs": [
    {
     "data": {
      "text/html": [
       "<div>\n",
       "<style scoped>\n",
       "    .dataframe tbody tr th:only-of-type {\n",
       "        vertical-align: middle;\n",
       "    }\n",
       "\n",
       "    .dataframe tbody tr th {\n",
       "        vertical-align: top;\n",
       "    }\n",
       "\n",
       "    .dataframe thead th {\n",
       "        text-align: right;\n",
       "    }\n",
       "</style>\n",
       "<table border=\"1\" class=\"dataframe\">\n",
       "  <thead>\n",
       "    <tr style=\"text-align: right;\">\n",
       "      <th></th>\n",
       "      <th>Model</th>\n",
       "      <th>RMSE</th>\n",
       "      <th>MAPE</th>\n",
       "      <th>R2</th>\n",
       "    </tr>\n",
       "  </thead>\n",
       "  <tbody>\n",
       "    <tr>\n",
       "      <th>3</th>\n",
       "      <td>xgboost</td>\n",
       "      <td>0.682884</td>\n",
       "      <td>0.313487</td>\n",
       "      <td>0.002976</td>\n",
       "    </tr>\n",
       "    <tr>\n",
       "      <th>2</th>\n",
       "      <td>lasso</td>\n",
       "      <td>0.684146</td>\n",
       "      <td>0.311927</td>\n",
       "      <td>-0.000711</td>\n",
       "    </tr>\n",
       "    <tr>\n",
       "      <th>1</th>\n",
       "      <td>ridge</td>\n",
       "      <td>0.684780</td>\n",
       "      <td>0.313905</td>\n",
       "      <td>-0.002567</td>\n",
       "    </tr>\n",
       "    <tr>\n",
       "      <th>0</th>\n",
       "      <td>linear</td>\n",
       "      <td>0.685118</td>\n",
       "      <td>0.315572</td>\n",
       "      <td>-0.003558</td>\n",
       "    </tr>\n",
       "    <tr>\n",
       "      <th>4</th>\n",
       "      <td>random_forest</td>\n",
       "      <td>0.701065</td>\n",
       "      <td>0.338365</td>\n",
       "      <td>-0.050819</td>\n",
       "    </tr>\n",
       "  </tbody>\n",
       "</table>\n",
       "</div>"
      ],
      "text/plain": [
       "           Model      RMSE      MAPE        R2\n",
       "3        xgboost  0.682884  0.313487  0.002976\n",
       "2          lasso  0.684146  0.311927 -0.000711\n",
       "1          ridge  0.684780  0.313905 -0.002567\n",
       "0         linear  0.685118  0.315572 -0.003558\n",
       "4  random_forest  0.701065  0.338365 -0.050819"
      ]
     },
     "execution_count": 77,
     "metadata": {},
     "output_type": "execute_result"
    }
   ],
   "source": [
    "r2_df_0_evaluation.sort_values(by='R2', ascending=False)"
   ]
  },
  {
   "cell_type": "code",
   "execution_count": 78,
   "metadata": {},
   "outputs": [
    {
     "data": {
      "text/html": [
       "<div>\n",
       "<style scoped>\n",
       "    .dataframe tbody tr th:only-of-type {\n",
       "        vertical-align: middle;\n",
       "    }\n",
       "\n",
       "    .dataframe tbody tr th {\n",
       "        vertical-align: top;\n",
       "    }\n",
       "\n",
       "    .dataframe thead th {\n",
       "        text-align: right;\n",
       "    }\n",
       "</style>\n",
       "<table border=\"1\" class=\"dataframe\">\n",
       "  <thead>\n",
       "    <tr style=\"text-align: right;\">\n",
       "      <th></th>\n",
       "      <th>Model</th>\n",
       "      <th>RMSE</th>\n",
       "      <th>MAPE</th>\n",
       "      <th>R2</th>\n",
       "    </tr>\n",
       "  </thead>\n",
       "  <tbody>\n",
       "    <tr>\n",
       "      <th>2</th>\n",
       "      <td>lasso</td>\n",
       "      <td>0.831559</td>\n",
       "      <td>0.144026</td>\n",
       "      <td>-0.000507</td>\n",
       "    </tr>\n",
       "    <tr>\n",
       "      <th>1</th>\n",
       "      <td>ridge</td>\n",
       "      <td>0.834967</td>\n",
       "      <td>0.146315</td>\n",
       "      <td>-0.008725</td>\n",
       "    </tr>\n",
       "    <tr>\n",
       "      <th>3</th>\n",
       "      <td>xgboost</td>\n",
       "      <td>0.835019</td>\n",
       "      <td>0.147532</td>\n",
       "      <td>-0.008851</td>\n",
       "    </tr>\n",
       "    <tr>\n",
       "      <th>0</th>\n",
       "      <td>linear</td>\n",
       "      <td>0.837687</td>\n",
       "      <td>0.148145</td>\n",
       "      <td>-0.015308</td>\n",
       "    </tr>\n",
       "    <tr>\n",
       "      <th>4</th>\n",
       "      <td>random_forest</td>\n",
       "      <td>0.849520</td>\n",
       "      <td>0.151833</td>\n",
       "      <td>-0.044195</td>\n",
       "    </tr>\n",
       "  </tbody>\n",
       "</table>\n",
       "</div>"
      ],
      "text/plain": [
       "           Model      RMSE      MAPE        R2\n",
       "2          lasso  0.831559  0.144026 -0.000507\n",
       "1          ridge  0.834967  0.146315 -0.008725\n",
       "3        xgboost  0.835019  0.147532 -0.008851\n",
       "0         linear  0.837687  0.148145 -0.015308\n",
       "4  random_forest  0.849520  0.151833 -0.044195"
      ]
     },
     "execution_count": 78,
     "metadata": {},
     "output_type": "execute_result"
    }
   ],
   "source": [
    "r2_df_1_evaluation.sort_values(by='R2', ascending=False)"
   ]
  },
  {
   "cell_type": "markdown",
   "metadata": {},
   "source": [
    "### Check coefficients"
   ]
  },
  {
   "cell_type": "code",
   "execution_count": 103,
   "metadata": {},
   "outputs": [
    {
     "data": {
      "text/html": [
       "<div>\n",
       "<style scoped>\n",
       "    .dataframe tbody tr th:only-of-type {\n",
       "        vertical-align: middle;\n",
       "    }\n",
       "\n",
       "    .dataframe tbody tr th {\n",
       "        vertical-align: top;\n",
       "    }\n",
       "\n",
       "    .dataframe thead th {\n",
       "        text-align: right;\n",
       "    }\n",
       "</style>\n",
       "<table border=\"1\" class=\"dataframe\">\n",
       "  <thead>\n",
       "    <tr style=\"text-align: right;\">\n",
       "      <th></th>\n",
       "      <th>Importance</th>\n",
       "    </tr>\n",
       "  </thead>\n",
       "  <tbody>\n",
       "    <tr>\n",
       "      <th>Purchase Amount (USD)</th>\n",
       "      <td>0.194307</td>\n",
       "    </tr>\n",
       "    <tr>\n",
       "      <th>Review Rating</th>\n",
       "      <td>0.184881</td>\n",
       "    </tr>\n",
       "    <tr>\n",
       "      <th>Age</th>\n",
       "      <td>0.177713</td>\n",
       "    </tr>\n",
       "    <tr>\n",
       "      <th>Previous Purchases</th>\n",
       "      <td>0.165140</td>\n",
       "    </tr>\n",
       "    <tr>\n",
       "      <th>Size</th>\n",
       "      <td>0.158515</td>\n",
       "    </tr>\n",
       "    <tr>\n",
       "      <th>Season_Spring</th>\n",
       "      <td>0.119444</td>\n",
       "    </tr>\n",
       "    <tr>\n",
       "      <th>Gender_Male</th>\n",
       "      <td>0.000000</td>\n",
       "    </tr>\n",
       "    <tr>\n",
       "      <th>Category_Clothing</th>\n",
       "      <td>0.000000</td>\n",
       "    </tr>\n",
       "    <tr>\n",
       "      <th>Season_Summer</th>\n",
       "      <td>0.000000</td>\n",
       "    </tr>\n",
       "    <tr>\n",
       "      <th>Discount Applied_Yes</th>\n",
       "      <td>0.000000</td>\n",
       "    </tr>\n",
       "  </tbody>\n",
       "</table>\n",
       "</div>"
      ],
      "text/plain": [
       "                       Importance\n",
       "Purchase Amount (USD)    0.194307\n",
       "Review Rating            0.184881\n",
       "Age                      0.177713\n",
       "Previous Purchases       0.165140\n",
       "Size                     0.158515\n",
       "Season_Spring            0.119444\n",
       "Gender_Male              0.000000\n",
       "Category_Clothing        0.000000\n",
       "Season_Summer            0.000000\n",
       "Discount Applied_Yes     0.000000"
      ]
     },
     "execution_count": 103,
     "metadata": {},
     "output_type": "execute_result"
    }
   ],
   "source": [
    "r2_df_0_coefficients = r2_df0.get_coefficients(model_name='xgboost').sort_values(by='Importance', ascending=False)\n",
    "r2_df_0_coefficients"
   ]
  },
  {
   "cell_type": "code",
   "execution_count": 104,
   "metadata": {},
   "outputs": [
    {
     "data": {
      "text/html": [
       "<div>\n",
       "<style scoped>\n",
       "    .dataframe tbody tr th:only-of-type {\n",
       "        vertical-align: middle;\n",
       "    }\n",
       "\n",
       "    .dataframe tbody tr th {\n",
       "        vertical-align: top;\n",
       "    }\n",
       "\n",
       "    .dataframe thead th {\n",
       "        text-align: right;\n",
       "    }\n",
       "</style>\n",
       "<table border=\"1\" class=\"dataframe\">\n",
       "  <thead>\n",
       "    <tr style=\"text-align: right;\">\n",
       "      <th></th>\n",
       "      <th>Coefficient</th>\n",
       "    </tr>\n",
       "  </thead>\n",
       "  <tbody>\n",
       "    <tr>\n",
       "      <th>Age</th>\n",
       "      <td>0.065720</td>\n",
       "    </tr>\n",
       "    <tr>\n",
       "      <th>Review Rating</th>\n",
       "      <td>0.059374</td>\n",
       "    </tr>\n",
       "    <tr>\n",
       "      <th>Category_Clothing</th>\n",
       "      <td>0.056276</td>\n",
       "    </tr>\n",
       "    <tr>\n",
       "      <th>Gender_Male</th>\n",
       "      <td>0.018821</td>\n",
       "    </tr>\n",
       "    <tr>\n",
       "      <th>Previous Purchases</th>\n",
       "      <td>0.012866</td>\n",
       "    </tr>\n",
       "    <tr>\n",
       "      <th>Size</th>\n",
       "      <td>0.007504</td>\n",
       "    </tr>\n",
       "    <tr>\n",
       "      <th>Season_Spring</th>\n",
       "      <td>0.001404</td>\n",
       "    </tr>\n",
       "    <tr>\n",
       "      <th>Discount Applied_Yes</th>\n",
       "      <td>-0.009311</td>\n",
       "    </tr>\n",
       "    <tr>\n",
       "      <th>Season_Summer</th>\n",
       "      <td>-0.010969</td>\n",
       "    </tr>\n",
       "    <tr>\n",
       "      <th>Purchase Amount (USD)</th>\n",
       "      <td>-0.052104</td>\n",
       "    </tr>\n",
       "  </tbody>\n",
       "</table>\n",
       "</div>"
      ],
      "text/plain": [
       "                       Coefficient\n",
       "Age                       0.065720\n",
       "Review Rating             0.059374\n",
       "Category_Clothing         0.056276\n",
       "Gender_Male               0.018821\n",
       "Previous Purchases        0.012866\n",
       "Size                      0.007504\n",
       "Season_Spring             0.001404\n",
       "Discount Applied_Yes     -0.009311\n",
       "Season_Summer            -0.010969\n",
       "Purchase Amount (USD)    -0.052104"
      ]
     },
     "execution_count": 104,
     "metadata": {},
     "output_type": "execute_result"
    }
   ],
   "source": [
    "r2_df_1_coefficients = r2_df1.get_coefficients(model_name='ridge').sort_values(by='Coefficient', ascending=False)\n",
    "r2_df_1_coefficients"
   ]
  },
  {
   "cell_type": "markdown",
   "metadata": {},
   "source": [
    "## Conclusion\n",
    "\n",
    "The best model in regression 1 (y - 'Review Rating'):\n",
    "* df_0 - ridge\n",
    "* df_1 - xgboost\n",
    "\n",
    "The best model in regression 2 (y - 'Frequency od Purchases'):\n",
    "* df_0 - xgboost\n",
    "* df_1 - ridge"
   ]
  },
  {
   "cell_type": "code",
   "execution_count": 39,
   "metadata": {},
   "outputs": [],
   "source": [
    "r1_df_0_coefficients.to_csv('../results/regression/r1_df_0_coefficients.csv')"
   ]
  },
  {
   "cell_type": "markdown",
   "metadata": {},
   "source": [
    "### Save results"
   ]
  },
  {
   "cell_type": "code",
   "execution_count": 105,
   "metadata": {},
   "outputs": [],
   "source": [
    "# convert index of r1_df_0_coefficients to column\n",
    "r1_df_0_coefficients.reset_index(level=0, inplace=True)\n",
    "r1_df_1_coefficients.reset_index(level=0, inplace=True)\n",
    "\n",
    "r2_df_0_coefficients.reset_index(level=0, inplace=True)\n",
    "r2_df_1_coefficients.reset_index(level=0, inplace=True)"
   ]
  },
  {
   "cell_type": "code",
   "execution_count": 106,
   "metadata": {},
   "outputs": [
    {
     "data": {
      "text/html": [
       "<div>\n",
       "<style scoped>\n",
       "    .dataframe tbody tr th:only-of-type {\n",
       "        vertical-align: middle;\n",
       "    }\n",
       "\n",
       "    .dataframe tbody tr th {\n",
       "        vertical-align: top;\n",
       "    }\n",
       "\n",
       "    .dataframe thead th {\n",
       "        text-align: right;\n",
       "    }\n",
       "</style>\n",
       "<table border=\"1\" class=\"dataframe\">\n",
       "  <thead>\n",
       "    <tr style=\"text-align: right;\">\n",
       "      <th></th>\n",
       "      <th>index</th>\n",
       "      <th>Importance</th>\n",
       "    </tr>\n",
       "  </thead>\n",
       "  <tbody>\n",
       "    <tr>\n",
       "      <th>0</th>\n",
       "      <td>Purchase Amount (USD)</td>\n",
       "      <td>0.194307</td>\n",
       "    </tr>\n",
       "    <tr>\n",
       "      <th>1</th>\n",
       "      <td>Review Rating</td>\n",
       "      <td>0.184881</td>\n",
       "    </tr>\n",
       "    <tr>\n",
       "      <th>2</th>\n",
       "      <td>Age</td>\n",
       "      <td>0.177713</td>\n",
       "    </tr>\n",
       "    <tr>\n",
       "      <th>3</th>\n",
       "      <td>Previous Purchases</td>\n",
       "      <td>0.165140</td>\n",
       "    </tr>\n",
       "    <tr>\n",
       "      <th>4</th>\n",
       "      <td>Size</td>\n",
       "      <td>0.158515</td>\n",
       "    </tr>\n",
       "    <tr>\n",
       "      <th>5</th>\n",
       "      <td>Season_Spring</td>\n",
       "      <td>0.119444</td>\n",
       "    </tr>\n",
       "    <tr>\n",
       "      <th>6</th>\n",
       "      <td>Gender_Male</td>\n",
       "      <td>0.000000</td>\n",
       "    </tr>\n",
       "    <tr>\n",
       "      <th>7</th>\n",
       "      <td>Category_Clothing</td>\n",
       "      <td>0.000000</td>\n",
       "    </tr>\n",
       "    <tr>\n",
       "      <th>8</th>\n",
       "      <td>Season_Summer</td>\n",
       "      <td>0.000000</td>\n",
       "    </tr>\n",
       "    <tr>\n",
       "      <th>9</th>\n",
       "      <td>Discount Applied_Yes</td>\n",
       "      <td>0.000000</td>\n",
       "    </tr>\n",
       "  </tbody>\n",
       "</table>\n",
       "</div>"
      ],
      "text/plain": [
       "                   index  Importance\n",
       "0  Purchase Amount (USD)    0.194307\n",
       "1          Review Rating    0.184881\n",
       "2                    Age    0.177713\n",
       "3     Previous Purchases    0.165140\n",
       "4                   Size    0.158515\n",
       "5          Season_Spring    0.119444\n",
       "6            Gender_Male    0.000000\n",
       "7      Category_Clothing    0.000000\n",
       "8          Season_Summer    0.000000\n",
       "9   Discount Applied_Yes    0.000000"
      ]
     },
     "execution_count": 106,
     "metadata": {},
     "output_type": "execute_result"
    }
   ],
   "source": [
    "r2_df_0_coefficients"
   ]
  },
  {
   "cell_type": "code",
   "execution_count": 109,
   "metadata": {},
   "outputs": [],
   "source": [
    "# change name of columns from 'Index' to 'Feature'\n",
    "r1_df_0_coefficients.rename(columns={'index': 'Feature'}, inplace=True)\n",
    "r1_df_1_coefficients.rename(columns={'index': 'Feature'}, inplace=True)\n",
    "\n",
    "r2_df_0_coefficients.rename(columns={'index': 'Feature'}, inplace=True)\n",
    "r2_df_1_coefficients.rename(columns={'index': 'Feature'}, inplace=True)"
   ]
  },
  {
   "cell_type": "code",
   "execution_count": 116,
   "metadata": {},
   "outputs": [],
   "source": [
    "r1_df_0_coefficients['regression_id'] = 1\n",
    "r1_df_0_coefficients['df_id'] = 0\n",
    "r1_df_0_coefficients['model'] = 'ridge'\n",
    "\n",
    "r1_df_1_coefficients['regression_id'] = 1\n",
    "r1_df_1_coefficients['df_id'] = 1\n",
    "r1_df_1_coefficients['model'] = 'xgboost'\n",
    "\n",
    "r2_df_0_coefficients['regression_id'] = 2\n",
    "r2_df_0_coefficients['df_id'] = 0\n",
    "r2_df_0_coefficients['model'] = 'xgboost'\n",
    "\n",
    "r2_df_1_coefficients['regression_id'] = 2\n",
    "r2_df_1_coefficients['df_id'] = 1\n",
    "r2_df_1_coefficients['model'] = 'ridge'"
   ]
  },
  {
   "cell_type": "code",
   "execution_count": 122,
   "metadata": {},
   "outputs": [],
   "source": [
    "r1_df_0_coefficients.to_csv('../results/regression/r1_df_0_coefficients.csv', index = False)\n",
    "r1_df_1_coefficients.to_csv('../results/regression/r1_df_1_coefficients.csv', index = False)\n",
    "\n",
    "r2_df_0_coefficients.to_csv('../results/regression/r2_df_0_coefficients.csv', index = False)\n",
    "r2_df_1_coefficients.to_csv('../results/regression/r2_df_1_coefficients.csv', index = False)"
   ]
  },
  {
   "cell_type": "code",
   "execution_count": 118,
   "metadata": {},
   "outputs": [],
   "source": [
    "# merge all coefficients\n",
    "all_coefficients = pd.concat([r1_df_0_coefficients, r1_df_1_coefficients, r2_df_0_coefficients, r2_df_1_coefficients])\n",
    "all_coefficients.to_csv('../results/regression/all_coefficients.csv', index = False)"
   ]
  }
 ],
 "metadata": {
  "kernelspec": {
   "display_name": "Python 3",
   "language": "python",
   "name": "python3"
  },
  "language_info": {
   "codemirror_mode": {
    "name": "ipython",
    "version": 3
   },
   "file_extension": ".py",
   "mimetype": "text/x-python",
   "name": "python",
   "nbconvert_exporter": "python",
   "pygments_lexer": "ipython3",
   "version": "3.11.2"
  }
 },
 "nbformat": 4,
 "nbformat_minor": 2
}
